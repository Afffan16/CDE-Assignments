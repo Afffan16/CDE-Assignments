{
 "cells": [
  {
   "cell_type": "markdown",
   "metadata": {},
   "source": [
    "# Part -1 Python Basics (Variables)"
   ]
  },
  {
   "cell_type": "markdown",
   "metadata": {},
   "source": [
    "1. Print Your Name with your Father name and Date of birth using suitable escape sequence charactor"
   ]
  },
  {
   "cell_type": "code",
   "execution_count": 1,
   "metadata": {},
   "outputs": [
    {
     "name": "stdout",
     "output_type": "stream",
     "text": [
      "\n",
      " Name : M. Affan bin Aamir \n",
      " Father's Name : Muhammad Aamir \n",
      " Date Of Birth : 16 July 2005 \n"
     ]
    }
   ],
   "source": [
    "print(\"\\n Name : M. Affan bin Aamir \\n Father's Name : Muhammad Aamir \\n Date Of Birth : 16 July 2005 \")"
   ]
  },
  {
   "cell_type": "markdown",
   "metadata": {},
   "source": [
    "2. Write your small bio using variables and print it using print function"
   ]
  },
  {
   "cell_type": "code",
   "execution_count": 17,
   "metadata": {},
   "outputs": [
    {
     "name": "stdout",
     "output_type": "stream",
     "text": [
      "Name :  M. Affan bin Aamir\n",
      "Father's Name :  Muhammad Aamir\n",
      "Age :  19\n",
      "University :  BUKC\n",
      "Department :  Software Engineering\n",
      "Course Studying at SMIT :  Cloud Data Engineering - Batch 02\n"
     ]
    }
   ],
   "source": [
    "name = \"M. Affan bin Aamir\"\n",
    "fname = \"Muhammad Aamir\"\n",
    "age = 19\n",
    "uni = \"BUKC\"\n",
    "dep = \"Software Engineering\"\n",
    "course = \"Cloud Data Engineering - Batch 02\"\n",
    "print(\"Name : \", name)\n",
    "print(\"Father's Name : \", fname)\n",
    "print(\"Age : \", age)\n",
    "print(\"University : \", uni)\n",
    "print(\"Department : \", dep)\n",
    "print(\"Course Studying at SMIT : \", course)"
   ]
  },
  {
   "cell_type": "markdown",
   "metadata": {},
   "source": [
    "3. Write a program in which use all the operators we can use in Python"
   ]
  },
  {
   "cell_type": "code",
   "execution_count": 9,
   "metadata": {},
   "outputs": [
    {
     "name": "stdout",
     "output_type": "stream",
     "text": [
      "\t Using Different Operators in Python \n",
      "\n",
      " Arithematic Operators ( +, -, *, /, //, % ) \n",
      "\n",
      "Num 01 :  5\n",
      "Num 02 :  15\n",
      "Num 03 :  55.5\n",
      "\n",
      "Num 01 + Num 02 =  20\n",
      "Num 02 - Num 01 =  10\n",
      "Num 01 * Num 02 =  75\n",
      "Num 02 / Num 01 =  3.0\n",
      "Num 03 // Num 01 =  11.0\n",
      "Num 03 % Num 01 =  0.5\n"
     ]
    }
   ],
   "source": [
    "num1 = 5\n",
    "num2= 15\n",
    "num3 = 55.5\n",
    "\n",
    "num4 = num1 + num2 # Addition\n",
    "num5 = num2 - num1 # Subtraction\n",
    "num6 = num1 * num2 # Multiplication\n",
    "num7 = num2 / num1 # Division\n",
    "num8 = num3 // num1 # Floor Divivsion\n",
    "num9 = num3 % num1 # Modulus Remainder\n",
    "print(\"\\t Using Different Operators in Python \\n\")\n",
    "print(\" Arithematic Operators ( +, -, *, /, //, % ) \\n\")\n",
    "print(\"Num 01 : \", num1)\n",
    "print(\"Num 02 : \", num2)\n",
    "print(\"Num 03 : \", num3)\n",
    "print(\"\\nNum 01 + Num 02 = \", num4)\n",
    "print(\"Num 02 - Num 01 = \", num5)\n",
    "print(\"Num 01 * Num 02 = \", num6)\n",
    "print(\"Num 02 / Num 01 = \", num7)\n",
    "print(\"Num 03 // Num 01 = \", num8)\n",
    "print(\"Num 03 % Num 01 = \", num9)"
   ]
  },
  {
   "cell_type": "markdown",
   "metadata": {},
   "source": [
    "4. Completes the following steps of small task:\n",
    "    - Mention Marks of English , Islamiat and Maths out of 100 in 3 different variables\n",
    "    - Mention Variable of Total Marks and assign 300 to it\n",
    "    - Calculate Percentage"
   ]
  },
  {
   "cell_type": "code",
   "execution_count": 11,
   "metadata": {},
   "outputs": [
    {
     "name": "stdout",
     "output_type": "stream",
     "text": [
      "---RESULT--- \n",
      "\n",
      "ENGLISH =  88\n",
      "ISLAMIAT =  81\n",
      "MATHS =  96\n",
      "MARKS OBTAINED =  265\n",
      "TOTAL MARKS =  300\n",
      "Percentage = 88.33333333333333\n"
     ]
    }
   ],
   "source": [
    "# Write your codEng = 80\n",
    "islamiat = 81\n",
    "maths = 96\n",
    "english = 88\n",
    "total = 300\n",
    "marksObtained = english + islamiat + maths\n",
    "percentage = ( marksObtained / total ) * 100\n",
    "print (\"---RESULT--- \\n\")\n",
    "print (\"ENGLISH = \", english)\n",
    "print (\"ISLAMIAT = \", islamiat)\n",
    "print (\"MATHS = \", maths)\n",
    "print (\"MARKS OBTAINED = \", marksObtained)\n",
    "print (\"TOTAL MARKS = \", total)\n",
    "print(\"Percentage =\" ,percentage )"
   ]
  },
  {
   "cell_type": "markdown",
   "metadata": {},
   "source": [
    "# Part -2 Python Basics (Conditional Statements)"
   ]
  },
  {
   "cell_type": "markdown",
   "metadata": {},
   "source": [
    "1) A company decided to give bonus of 5% to employee if his/her year of service is more than 5 years.\n",
    "Ask user for their salary and year of service and print the net bonus amount."
   ]
  },
  {
   "cell_type": "code",
   "execution_count": 19,
   "metadata": {},
   "outputs": [
    {
     "name": "stdout",
     "output_type": "stream",
     "text": [
      "Welcome Employee! \n",
      "\n"
     ]
    },
    {
     "name": "stdin",
     "output_type": "stream",
     "text": [
      "Enter the number of years you have been working in the company :   3\n",
      "Enter your monthly salary :  250000\n"
     ]
    },
    {
     "name": "stdout",
     "output_type": "stream",
     "text": [
      "Sorry, you are not eligible for a bonus\n"
     ]
    }
   ],
   "source": [
    "print(\"Welcome Employee! \\n\")\n",
    "workTime = float(input(\"Enter the number of years you have been working in the company :  \"))\n",
    "salary = int(input(\"Enter your monthly salary : \"))\n",
    "\n",
    "if workTime > 5:\n",
    "    bonus = 0.05\n",
    "    bonus_amount = bonus * salary  \n",
    "    print(\"Congratualtions! You are being awarded a bonus of \", bonus_amount)\n",
    "else:\n",
    "    bonus = 0\n",
    "    bonus_amount = bonus * salary  \n",
    "    print(\"Sorry, you are not eligible for a bonus\")\n",
    "  \n"
   ]
  },
  {
   "cell_type": "markdown",
   "metadata": {},
   "source": [
    "\n",
    "2) Write a program to check whether a person is eligible for voting or not. (accept age from user) if age is greater than 17 eligible otherwise not eligible"
   ]
  },
  {
   "cell_type": "code",
   "execution_count": 23,
   "metadata": {},
   "outputs": [
    {
     "name": "stdout",
     "output_type": "stream",
     "text": [
      "\t Voting Eligibility Checker \n",
      "\n"
     ]
    },
    {
     "name": "stdin",
     "output_type": "stream",
     "text": [
      "Enter your age :  20\n"
     ]
    },
    {
     "name": "stdout",
     "output_type": "stream",
     "text": [
      "You are eligible for vote\n"
     ]
    }
   ],
   "source": [
    "print(\"\\t Voting Eligibility Checker \\n\")\n",
    "age = int(input(\"Enter your age : \"))\n",
    "if age >= 18:\n",
    "    print(\"You are eligible for vote\")\n",
    "else:\n",
    "    print(\"You are not eligible for vote\")"
   ]
  },
  {
   "cell_type": "markdown",
   "metadata": {},
   "source": [
    "\n",
    "3) Write a program to check whether a number entered by user is even or odd."
   ]
  },
  {
   "cell_type": "code",
   "execution_count": 27,
   "metadata": {},
   "outputs": [
    {
     "name": "stdout",
     "output_type": "stream",
     "text": [
      "\t Even / Odd Detector \n",
      "\n"
     ]
    },
    {
     "name": "stdin",
     "output_type": "stream",
     "text": [
      "Enter a number :  25\n"
     ]
    },
    {
     "name": "stdout",
     "output_type": "stream",
     "text": [
      "The number is Odd\n"
     ]
    }
   ],
   "source": [
    "print(\"\\t Even / Odd Detector \\n\")\n",
    "number = int(input(\"Enter a number : \"))\n",
    "if number % 2 == 0:\n",
    "    print (\"The number is Even \")\n",
    "else:\n",
    "    print (\"The number is Odd\")"
   ]
  },
  {
   "cell_type": "markdown",
   "metadata": {},
   "source": [
    "4) Write a program to check whether a number is divisible by 7 or not.\n",
    "Show Answer"
   ]
  },
  {
   "cell_type": "code",
   "execution_count": 33,
   "metadata": {},
   "outputs": [
    {
     "name": "stdout",
     "output_type": "stream",
     "text": [
      "\t Divisibility Checker \n",
      "\n"
     ]
    },
    {
     "name": "stdin",
     "output_type": "stream",
     "text": [
      "Enter a number :  55\n"
     ]
    },
    {
     "name": "stdout",
     "output_type": "stream",
     "text": [
      "Your number is not divisible by 7\n"
     ]
    }
   ],
   "source": [
    "print(\"\\t Divisibility Checker \\n\")\n",
    "number = int(input(\"Enter a number : \"))\n",
    "if number % 7 == 0:\n",
    "    print (\"The number is divisble by 7 \")\n",
    "    answer = number / 7;\n",
    "    print(f\"{number} / 7 = {answer}\")\n",
    "else:\n",
    "    print (\"Your number is not divisible by 7\")"
   ]
  },
  {
   "cell_type": "markdown",
   "metadata": {},
   "source": [
    "5) Write a program to display \n",
    "\"Hello\" if a number entered by user is a multiple of five , otherwise print \"Bye\"."
   ]
  },
  {
   "cell_type": "code",
   "execution_count": 37,
   "metadata": {},
   "outputs": [
    {
     "name": "stdin",
     "output_type": "stream",
     "text": [
      "Enter a number  2\n"
     ]
    },
    {
     "name": "stdout",
     "output_type": "stream",
     "text": [
      "Bye! \n"
     ]
    }
   ],
   "source": [
    "number = int(input(\"Enter a number \"))\n",
    "if number % 5 == 0:\n",
    "    print (\"Hello! \")\n",
    "else:\n",
    "    print (\"Bye! \")"
   ]
  },
  {
   "cell_type": "markdown",
   "metadata": {},
   "source": [
    "6) Write a program to calculate the electricity bill (accept number of unit from user) according to the following criteria :\n",
    "     Unit                                                     Price  \n",
    "uptp 100 units                                             no charge\n",
    "Next 200 units                                              Rs 5 per unit\n",
    "After 200 units                                             Rs 10 per unit\n",
    "(For example if input unit is 350 than total bill amount is Rs.3500\n",
    "(For example if input unit is 97 than total bill amount is Rs.0\n",
    "(For example if input unit is 150 than total bill amount is Rs.750"
   ]
  },
  {
   "cell_type": "code",
   "execution_count": 89,
   "metadata": {
    "scrolled": true
   },
   "outputs": [
    {
     "name": "stdout",
     "output_type": "stream",
     "text": [
      "\t Bill Calculator \n",
      "\n"
     ]
    },
    {
     "name": "stdin",
     "output_type": "stream",
     "text": [
      "Please enter total number of units :  4\n"
     ]
    },
    {
     "name": "stdout",
     "output_type": "stream",
     "text": [
      "No amount required, your total bill amount is Rs 0\n"
     ]
    }
   ],
   "source": [
    "print(\"\\t Bill Calculator \\n\")\n",
    "units = int(input(\"Please enter total number of units : \"))\n",
    "if 0 < units <= 100:\n",
    "    print(\"No amount required, your total bill amount is Rs 0\")\n",
    "elif 100 < units <= 200:\n",
    "    bill =  units * 5\n",
    "    print (\"Your total bill is Rs. \", bill)\n",
    "elif units > 200:\n",
    "    bill = units * 10\n",
    "    print (\"Your total bill is Rs.  \", bill)\n",
    "else:\n",
    "    print(\"The units entered are invalid\")"
   ]
  },
  {
   "cell_type": "markdown",
   "metadata": {},
   "source": [
    "7) Write a program to display the last digit of a number.\n"
   ]
  },
  {
   "cell_type": "code",
   "execution_count": 87,
   "metadata": {
    "scrolled": true
   },
   "outputs": [
    {
     "name": "stdout",
     "output_type": "stream",
     "text": [
      "\t Last Digit Checker \n",
      "\n"
     ]
    },
    {
     "name": "stdin",
     "output_type": "stream",
     "text": [
      "Enter a number :  55\n"
     ]
    },
    {
     "name": "stdout",
     "output_type": "stream",
     "text": [
      "The last digit of your number is:  5\n"
     ]
    }
   ],
   "source": [
    "print(\"\\t Last Digit Checker \\n\")\n",
    "number = int(input(\"Enter a number : \"))\n",
    "lastDigit = number  % 10\n",
    "print(\"The last digit of your number is: \" , lastDigit)"
   ]
  },
  {
   "cell_type": "markdown",
   "metadata": {},
   "source": [
    "9) Take values of length and breadth of a rectangle from user and print if it is square or rectangle."
   ]
  },
  {
   "cell_type": "code",
   "execution_count": 85,
   "metadata": {},
   "outputs": [
    {
     "name": "stdout",
     "output_type": "stream",
     "text": [
      "\t Shape Checker \n",
      "\n"
     ]
    },
    {
     "name": "stdin",
     "output_type": "stream",
     "text": [
      "Enter the length of the shape :  44\n",
      "Enter the breadth of the shape :  2\n"
     ]
    },
    {
     "name": "stdout",
     "output_type": "stream",
     "text": [
      "It is a Rectangle\n"
     ]
    }
   ],
   "source": [
    "print(\"\\t Shape Checker \\n\")\n",
    "length = int(input(\"Enter the length of the shape : \"))\n",
    "breadth = int(input(\"Enter the breadth of the shape : \"))\n",
    "if length == breadth:\n",
    "    print(\"It is a Square\")\n",
    "else:\n",
    "    print(\"It is a Rectangle\")\n"
   ]
  },
  {
   "cell_type": "markdown",
   "metadata": {},
   "source": [
    "10) Take two int values from user and print greatest among them."
   ]
  },
  {
   "cell_type": "code",
   "execution_count": 83,
   "metadata": {},
   "outputs": [
    {
     "name": "stdout",
     "output_type": "stream",
     "text": [
      "\t Greatest of Two Number \n",
      "\n"
     ]
    },
    {
     "name": "stdin",
     "output_type": "stream",
     "text": [
      "Enter first number :  45\n",
      "Enter second number :  44\n"
     ]
    },
    {
     "name": "stdout",
     "output_type": "stream",
     "text": [
      "The greater number is :  45\n"
     ]
    }
   ],
   "source": [
    "print(\"\\t Greatest of Two Number \\n\")\n",
    "num1 = int(input(\"Enter first number : \"))\n",
    "num2 = int(input(\"Enter second number : \"))\n",
    "\n",
    "if num1 > num2:\n",
    "    print(\"The greater number is : \", num1)\n",
    "elif num2 > num1:\n",
    "    print(\"The greater number is : \", num2)\n",
    "else:\n",
    "    print(\"Both of the numbers are equal.\")"
   ]
  },
  {
   "cell_type": "markdown",
   "metadata": {},
   "source": [
    "11) A shop will give discount of 10% if the cost of purchased quantity is more than 1000.\n",
    "Ask user for quantity\n",
    "Suppose, one unit will cost 100.\n",
    "Judge and print total cost for user."
   ]
  },
  {
   "cell_type": "code",
   "execution_count": 93,
   "metadata": {},
   "outputs": [
    {
     "name": "stdout",
     "output_type": "stream",
     "text": [
      "\t Shop Billing \n",
      "\n"
     ]
    },
    {
     "name": "stdin",
     "output_type": "stream",
     "text": [
      "Please enter the quantity of products :  5\n"
     ]
    },
    {
     "name": "stdout",
     "output_type": "stream",
     "text": [
      "Total cost :  500\n"
     ]
    }
   ],
   "source": [
    "print(\"\\t Shop Billing \\n\")\n",
    "quantity = int(input(\"Please enter the quantity of products : \"))\n",
    "price = 100\n",
    "totalcost = quantity * price\n",
    "if totalcost > 1000:\n",
    "    discount = totalcost * 0.1\n",
    "    totalcost -= discount\n",
    "    print(\"Total cost after discount : \", totalcost)\n",
    "else:\n",
    "    print(\"Total cost : \", totalcost)\n"
   ]
  },
  {
   "cell_type": "markdown",
   "metadata": {},
   "source": [
    "12) A school has following rules for grading system:\n",
    "\n",
    "a. Below 25 - F\n",
    "\n",
    "b. 25 to 45 - E\n",
    "\n",
    "c. 45 to 50 - D\n",
    "\n",
    "d. 50 to 60 - C\n",
    "\n",
    "e. 60 to 80 - B\n",
    "\n",
    "f. Above 80 - A\n",
    "\n",
    "Ask user to enter marks and print the corresponding grade."
   ]
  },
  {
   "cell_type": "code",
   "execution_count": 97,
   "metadata": {
    "scrolled": true
   },
   "outputs": [
    {
     "name": "stdout",
     "output_type": "stream",
     "text": [
      "---Grading System--- \n",
      "\n"
     ]
    },
    {
     "name": "stdin",
     "output_type": "stream",
     "text": [
      "Enter the marks of a student ( From 0-100 ) :  44\n"
     ]
    },
    {
     "name": "stdout",
     "output_type": "stream",
     "text": [
      "Your Grade : E\n"
     ]
    }
   ],
   "source": [
    " print(\"---Grading System--- \\n\")\n",
    " marks = float(input(\"Enter the marks of a student ( From 0-100 ) : \"))\n",
    " if marks>0 and marks<=25:\n",
    "     print(\"Your Grade : F\")\n",
    " elif marks>25 and marks<=45:\n",
    "     print(\"Your Grade : E\")   \n",
    " elif marks>45 and marks<=50:\n",
    "     print(\"Your Grade : D\") \n",
    " elif marks>55 and marks<=60:\n",
    "     print(\"Your Grade : C\")\n",
    " elif marks>60 and marks<=80:\n",
    "     print(\"Your Grade : B\")\n",
    " elif marks>80 and marks<=100:\n",
    "     print(\"Your Grade : A\")\n",
    " else:\n",
    "     print(\"Invalid Marks Entered\")"
   ]
  },
  {
   "cell_type": "markdown",
   "metadata": {},
   "source": [
    "13) Take input of age of 3 people by user and determine oldest and youngest among them."
   ]
  },
  {
   "cell_type": "code",
   "execution_count": 115,
   "metadata": {},
   "outputs": [
    {
     "name": "stdout",
     "output_type": "stream",
     "text": [
      "\t Age Comparing between 3 individuals \n",
      "\n"
     ]
    },
    {
     "name": "stdin",
     "output_type": "stream",
     "text": [
      "Enter person 01's age :  25\n",
      "Enter person 02's age :  89\n",
      "Enter person 03's age :  13\n"
     ]
    },
    {
     "name": "stdout",
     "output_type": "stream",
     "text": [
      "\n",
      "The oldest among them is person 2 who is 89 years old.\n",
      "The youngest among them is person 3 who is 13 years old.\n"
     ]
    }
   ],
   "source": [
    "print(\"\\t Age Comparing between 3 individuals \\n\")\n",
    "age_1 = int(input(\"Enter person 01's age : \"))\n",
    "age_2 = int(input(\"Enter person 02's age : \"))\n",
    "age_3 = int(input(\"Enter person 03's age : \"))\n",
    "if age_1 < 0 or age_2 < 0 or age_3 < 0:\n",
    "    print(\"\\nInvalid age entered! Age cannot be less than 0\")\n",
    "else:    \n",
    "    if age_1 > age_2  and age_1 > age_3:\n",
    "        oldest = age_1\n",
    "        n = 1\n",
    "    elif age_2 > age_1 and age_2  > age_3:\n",
    "        oldest = age_2 \n",
    "        n = 2\n",
    "    else:\n",
    "        oldest = age_3\n",
    "        n = 3\n",
    "    if age_1 < age_2 and age_1 < age_3:\n",
    "        youngest = age_1\n",
    "        m = 1\n",
    "    elif age_2  < age_1 and age_2  < age_3:\n",
    "        youngest = age_2\n",
    "        m = 2\n",
    "    else:\n",
    "        youngest = age_3\n",
    "        m = 3\n",
    "    print(f\"\\nThe oldest among them is person {n} who is {oldest} years old.\")\n",
    "    print(f\"The youngest among them is person {m} who is {youngest} years old.\")\n",
    "    \n"
   ]
  },
  {
   "cell_type": "markdown",
   "metadata": {},
   "source": [
    "14)A student will not be allowed to sit in exam if his/her attendence is less than 75%.\n",
    "\n",
    "Take following input from user\n",
    "\n",
    "- Number of classes held\n",
    "\n",
    "- Number of classes attended.\n",
    "\n",
    "And print\n",
    "\n",
    "- percentage of class attended\n",
    "\n",
    "- Is student is allowed to sit in exam or not.\n"
   ]
  },
  {
   "cell_type": "code",
   "execution_count": 113,
   "metadata": {},
   "outputs": [
    {
     "name": "stdout",
     "output_type": "stream",
     "text": [
      "\t Attendence Checker \n",
      "\n"
     ]
    },
    {
     "name": "stdin",
     "output_type": "stream",
     "text": [
      "Enter total number of classes held :  20\n",
      "Enter number of classes attended :  18\n"
     ]
    },
    {
     "name": "stdout",
     "output_type": "stream",
     "text": [
      "\n",
      "Attendance Percentage :  90.0 %\n",
      "Eligibile to sit in exam.\n"
     ]
    }
   ],
   "source": [
    "print(\"\\t Attendence Checker \\n\")\n",
    "totalClasses = int(input(\"Enter total number of classes held : \"))\n",
    "classesAttended = int(input(\"Enter number of classes attended : \"))\n",
    "\n",
    "attendance = (classesAttended / totalClasses) * 100\n",
    "print(\"\\nAttendance Percentage : \", attendance, \"%\")\n",
    "if attendance >= 75:\n",
    "    print(\"Eligibile to sit in exam.\")\n",
    "else:\n",
    "    print(\"Short Attendence! You are not allowed to sit in the exam.\")"
   ]
  },
  {
   "cell_type": "markdown",
   "metadata": {},
   "source": [
    "15) Modify the above question to allow student to sit if he/she has medical cause. Ask user if he/she has medical cause or not ( 'Y' or 'N' ) and print accordingly."
   ]
  },
  {
   "cell_type": "code",
   "execution_count": 148,
   "metadata": {},
   "outputs": [
    {
     "name": "stdout",
     "output_type": "stream",
     "text": [
      "\t Attendence Checker \n",
      "\n"
     ]
    },
    {
     "name": "stdin",
     "output_type": "stream",
     "text": [
      "Enter total number of classes held :  50\n",
      "Enter number of classes attended :  25\n"
     ]
    },
    {
     "name": "stdout",
     "output_type": "stream",
     "text": [
      "\n",
      "Attendance Percentage :  50.0 %\n"
     ]
    },
    {
     "name": "stdin",
     "output_type": "stream",
     "text": [
      "Do you have a medical cause? (Y/N) :  Y\n"
     ]
    },
    {
     "name": "stdout",
     "output_type": "stream",
     "text": [
      "Allowed to sit in exam due to medical cause.\n"
     ]
    }
   ],
   "source": [
    "print(\"\\t Attendence Checker \\n\")\n",
    "totalClasses = int(input(\"Enter total number of classes held : \"))\n",
    "classesAttended = int(input(\"Enter number of classes attended : \"))\n",
    "\n",
    "attendance = (classesAttended / totalClasses) * 100\n",
    "print(\"\\nAttendance Percentage : \", attendance, \"%\")\n",
    "if attendance >= 75:\n",
    "    print(\"Eligibile to sit in exam.\")\n",
    "else:\n",
    "    MedicalCasuse = input(\"Do you have a medical cause? (Y/N) : \")[0]\n",
    "    if MedicalCasuse == 'Y':\n",
    "        print(\"Allowed to sit in exam due to medical cause.\")\n",
    "    else:\n",
    "        print(\"Short Attendence! You are not allowed to sit in the exam.\")"
   ]
  },
  {
   "cell_type": "markdown",
   "metadata": {},
   "source": [
    "16) Write a program to check if a year is leap year or not.\n",
    "\n",
    "If a year is divisible by 4 then it is leap year but if the year is century year like 2000, 1900, 2100 then it must be divisible by 400."
   ]
  },
  {
   "cell_type": "code",
   "execution_count": 144,
   "metadata": {},
   "outputs": [
    {
     "name": "stdout",
     "output_type": "stream",
     "text": [
      "\t Leap Year Checker \n",
      "\n"
     ]
    },
    {
     "name": "stdin",
     "output_type": "stream",
     "text": [
      "Enter the year :  555\n"
     ]
    },
    {
     "name": "stdout",
     "output_type": "stream",
     "text": [
      "The Entered Year '555' is not a Leap Year\n"
     ]
    }
   ],
   "source": [
    "print(\"\\t Leap Year Checker \\n\")\n",
    "year = int(input(\"Enter the year : \"))\n",
    "if (year % 4 == 0 and year % 100 != 0) or (year % 400 == 0):\n",
    "    print (f\"The Entered Year '{year}' is a Leap Year\")\n",
    "else:\n",
    "    print (f\"The Entered Year '{year}' is not a Leap Year\")"
   ]
  },
  {
   "cell_type": "markdown",
   "metadata": {},
   "source": [
    "17) Ask user to enter age, gender ( M or F ), marital status ( Y or N ) and then using following rules print their place of service.\n",
    "\n",
    "if employee is female, then she will work only in urban areas.\n",
    "\n",
    "if employee is a male and age is in between 20 to 40 then he may work in anywhere\n",
    "\n",
    "if employee is male and age is in between 40 t0 60 then he will work in urban areas only.\n",
    "\n",
    "And any other input of age should print \"ERROR\""
   ]
  },
  {
   "cell_type": "code",
   "execution_count": 123,
   "metadata": {},
   "outputs": [
    {
     "name": "stdout",
     "output_type": "stream",
     "text": [
      "\t Workplace Decider \n",
      "\n"
     ]
    },
    {
     "name": "stdin",
     "output_type": "stream",
     "text": [
      " Enter your age :  66\n",
      " What is your Gender (M/F) :  M\n",
      " Are you married? (Y/N) :  Y\n"
     ]
    },
    {
     "name": "stdout",
     "output_type": "stream",
     "text": [
      " ERROR! No INFORMATION Provided in this context \n"
     ]
    }
   ],
   "source": [
    " print(\"\\t Workplace Decider \\n\")\n",
    " age = int(input(\" Enter your age : \"))\n",
    " gender = input(\" What is your Gender (M/F) : \")[0]\n",
    " m_status = input(\" Are you married? (Y/N) : \")[0]\n",
    " if gender == \"F\":\n",
    "     print(\" You can only work in urban areas \")\n",
    " elif gender == \"M\":\n",
    "     if age > 20 and age < 40:\n",
    "         print(\" You can work anywhere \")\n",
    "     elif age > 40 and age < 60:\n",
    "         print(\" You can only work in urban areas \") \n",
    "     else:\n",
    "         print(\" ERROR! No INFORMATION Provided in this context \")            \n",
    " else:\n",
    "     print(\"\\nINVALID INPUT PROVIDED \")"
   ]
  }
 ],
 "metadata": {
  "kernelspec": {
   "display_name": "Python [conda env:base] *",
   "language": "python",
   "name": "conda-base-py"
  },
  "language_info": {
   "codemirror_mode": {
    "name": "ipython",
    "version": 3
   },
   "file_extension": ".py",
   "mimetype": "text/x-python",
   "name": "python",
   "nbconvert_exporter": "python",
   "pygments_lexer": "ipython3",
   "version": "3.12.7"
  }
 },
 "nbformat": 4,
 "nbformat_minor": 4
}
