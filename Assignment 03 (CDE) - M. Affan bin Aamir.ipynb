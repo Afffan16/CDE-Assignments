{
 "cells": [
  {
   "cell_type": "markdown",
   "metadata": {},
   "source": [
    "# Part -3 Python Basics (Strings)"
   ]
  },
  {
   "cell_type": "markdown",
   "metadata": {},
   "source": [
    "1) Write a program that accepts a string from user. Your program should count and display number of\n",
    "vowels in that string."
   ]
  },
  {
   "cell_type": "code",
   "execution_count": 80,
   "metadata": {},
   "outputs": [
    {
     "name": "stdin",
     "output_type": "stream",
     "text": [
      "Please enter the string:  affan\n"
     ]
    },
    {
     "name": "stdout",
     "output_type": "stream",
     "text": [
      "Number of vowels:  2\n"
     ]
    }
   ],
   "source": [
    "str1 = input(\"Please enter the string: \")\n",
    "def count_vowels(string):\n",
    "    count = sum(1 for char in string if char in \"aeiouAEIOU\")\n",
    "    return count\n",
    "\n",
    "counter = count_vowels(str1)\n",
    "print(\"Number of vowels: \", counter)"
   ]
  },
  {
   "cell_type": "markdown",
   "metadata": {},
   "source": [
    "2) Write a program that reads a string from keyboard and display:\n",
    "* The number of uppercase letters in the string\n",
    "* The number of lowercase letters in the string\n",
    "* The number of digits in the string\n",
    "* The number of whitespace characters in the string"
   ]
  },
  {
   "cell_type": "code",
   "execution_count": 56,
   "metadata": {},
   "outputs": [
    {
     "name": "stdin",
     "output_type": "stream",
     "text": [
      "Please enter the string:  Today is 17th March 2025, Monday.\n"
     ]
    },
    {
     "name": "stdout",
     "output_type": "stream",
     "text": [
      "Number of uppercase letters in the string  3\n",
      "Number of lowercase letters in the string  17\n",
      "Number of number of digits in the string  6\n",
      "Number of number of whitespace characters in the string  5\n"
     ]
    }
   ],
   "source": [
    "def count_uppercase(string):\n",
    "    count = sum(1 for char in string if char.isupper())\n",
    "    return count\n",
    "\n",
    "def count_lowercase(string):\n",
    "    count = sum(1 for char in string if char.islower())\n",
    "    return count\n",
    "\n",
    "def count_digits(string):\n",
    "    count = sum(1 for char in string if char.isdigit())\n",
    "    return count\n",
    "\n",
    "def count_spaces(string):\n",
    "    count = sum(1 for char in string if char.isspace())\n",
    "    return count\n",
    "\n",
    "str1 = input(\"Please enter the string: \")\n",
    "\n",
    "ucount =count_uppercase(str1)\n",
    "lcount =count_lowercase(str1)\n",
    "dcount =count_digits(str1)\n",
    "scount =count_spaces(str1)\n",
    "\n",
    "print(\"Number of uppercase letters in the string \", ucount)\n",
    "print(\"Number of lowercase letters in the string \", lcount)\n",
    "print(\"Number of number of digits in the string \", dcount)\n",
    "print(\"Number of number of whitespace characters in the string \", scount)"
   ]
  },
  {
   "cell_type": "markdown",
   "metadata": {},
   "source": [
    "3) Write a program that accepts a string from user. Your program should create and display a\n",
    "new string where the first and last characters have been exchanged\n",
    "\n",
    "    For example if the user enters the string 'HELLO' then new string would be 'OELLH"
   ]
  },
  {
   "cell_type": "code",
   "execution_count": 60,
   "metadata": {},
   "outputs": [
    {
     "name": "stdin",
     "output_type": "stream",
     "text": [
      "Please enter the string:  Banana\n"
     ]
    },
    {
     "name": "stdout",
     "output_type": "stream",
     "text": [
      "New string: aananB\n"
     ]
    }
   ],
   "source": [
    "str1 = input(\"Please enter the string: \")\n",
    "if len(str1) > 1:\n",
    "    new_string = str1[-1] + str1[1:-1] + str1[0]\n",
    "else:\n",
    "    new_string = str1\n",
    "    \n",
    "print(\"New string:\", new_string)"
   ]
  },
  {
   "cell_type": "markdown",
   "metadata": {},
   "source": [
    "4) Write a Python program that accepts a string from user. Your program should create a new string in\n",
    "reverse of first string and display it.\n",
    "\n",
    "    For example if the user enters the string 'EXAM' then new string would be 'MAXE"
   ]
  },
  {
   "cell_type": "code",
   "execution_count": 62,
   "metadata": {},
   "outputs": [
    {
     "name": "stdin",
     "output_type": "stream",
     "text": [
      "Please enter the string:  COMPUTER\n"
     ]
    },
    {
     "name": "stdout",
     "output_type": "stream",
     "text": [
      "New string: RETUPMOC\n"
     ]
    }
   ],
   "source": [
    "str1 = input(\"Please enter the string: \")\n",
    "reversed_string = str1[::-1]\n",
    "print(\"New string:\", reversed_string)"
   ]
  },
  {
   "cell_type": "markdown",
   "metadata": {},
   "source": [
    "5) Write a Python program that accepts a string from user. Your program should create a new string by\n",
    "shifting one position to left.\n",
    "\n",
    "    For example if the user enters the string 'examination 2021' then new string would be 'xamination 2021e'"
   ]
  },
  {
   "cell_type": "code",
   "execution_count": 64,
   "metadata": {},
   "outputs": [
    {
     "name": "stdin",
     "output_type": "stream",
     "text": [
      "Please enter the string:  Today is a good day\n"
     ]
    },
    {
     "name": "stdout",
     "output_type": "stream",
     "text": [
      "New string: oday is a good dayT\n"
     ]
    }
   ],
   "source": [
    "str1 = input(\"Please enter the string: \")\n",
    "new_string = str1[1:] + str1[0]\n",
    "print(\"New string:\", new_string)"
   ]
  },
  {
   "cell_type": "markdown",
   "metadata": {},
   "source": [
    "6) Write a program that asks the user to input his name and print its initials. Assuming that the user\n",
    "always types first name, middle name and last name and does not include any unnecessary spaces.\n",
    "\n",
    "    For example, if the user enters Ajay Kumar Garg the program should display A. K. G.\n",
    "\n",
    "    **Note:** Don't use **split()** method"
   ]
  },
  {
   "cell_type": "code",
   "execution_count": 72,
   "metadata": {},
   "outputs": [
    {
     "name": "stdin",
     "output_type": "stream",
     "text": [
      "Please enter the string:  Affan Bin Aamir\n"
     ]
    },
    {
     "name": "stdout",
     "output_type": "stream",
     "text": [
      "Initials: A.B.A.\n"
     ]
    }
   ],
   "source": [
    "str1 = input(\"Please enter the string: \")\n",
    "initials = \"\"\n",
    "for i in range(len(str1)):\n",
    "    if i == 0 or str1[i - 1] == ' ':\n",
    "        initials += str1[i] + '.'\n",
    "        \n",
    "print(\"Initials:\", initials)"
   ]
  },
  {
   "cell_type": "markdown",
   "metadata": {},
   "source": [
    "7) A palindrome is a string that reads the same backward as forward.\n",
    "\n",
    "   For example, the words dad, madam and radar are all palindromes. Write a programs that determines whether the string is a palindrome.\n",
    "\n",
    "    **Note:** do not use **reverse()** method"
   ]
  },
  {
   "cell_type": "code",
   "execution_count": 74,
   "metadata": {},
   "outputs": [
    {
     "name": "stdin",
     "output_type": "stream",
     "text": [
      "Enter a string:  racecar\n"
     ]
    },
    {
     "name": "stdout",
     "output_type": "stream",
     "text": [
      "The string is a palindrome.\n"
     ]
    }
   ],
   "source": [
    "string = input(\"Enter a string: \")\n",
    "\n",
    "if string == string[::-1]:\n",
    "    print(\"The string is a palindrome.\")\n",
    "else:\n",
    "    print(\"The string is not a palindrome.\")"
   ]
  },
  {
   "cell_type": "markdown",
   "metadata": {},
   "source": [
    "8) Write a program that display following output:\n",
    "- SHIFT\n",
    "- HIFTS\n",
    "- IFTSH\n",
    "- FTSHI\n",
    "- TSHIF\n",
    "- SHIFT"
   ]
  },
  {
   "cell_type": "code",
   "execution_count": 76,
   "metadata": {},
   "outputs": [
    {
     "name": "stdout",
     "output_type": "stream",
     "text": [
      "SHIFT\n",
      "HIFTS\n",
      "IFTSH\n",
      "FTSHI\n",
      "TSHIF\n",
      "SHIFT\n"
     ]
    }
   ],
   "source": [
    "word = \"SHIFT\"\n",
    "print(word)\n",
    "\n",
    "for i in range(1, len(word)):\n",
    "    print(word[i:] + word[:i])\n",
    "\n",
    "print(word)"
   ]
  },
  {
   "cell_type": "markdown",
   "metadata": {},
   "source": [
    "9) Write a program in python that accepts a string to setup a passwords. Your entered password must\n",
    "meet the following requirements:\n",
    "- The password must be at least eight characters long.\n",
    "- It must contain at least one uppercase letter.\n",
    "- It must contain at least one lowercase letter.\n",
    "- It must contain at least one numeric digit.\n",
    "\n",
    "  Your program should should perform this validation."
   ]
  },
  {
   "cell_type": "code",
   "execution_count": 78,
   "metadata": {},
   "outputs": [
    {
     "name": "stdin",
     "output_type": "stream",
     "text": [
      "Enter a password:  AffanBinAamir92\n"
     ]
    },
    {
     "name": "stdout",
     "output_type": "stream",
     "text": [
      "Password is valid!\n"
     ]
    }
   ],
   "source": [
    "def is_valid_password(password):\n",
    "    if len(password) < 8:\n",
    "        return False\n",
    "    \n",
    "    has_upper = False\n",
    "    has_lower = False\n",
    "    has_digit = False\n",
    "\n",
    "    for char in password:\n",
    "        if char.isupper():\n",
    "            has_upper = True\n",
    "        elif char.islower():\n",
    "            has_lower = True\n",
    "        elif char.isdigit():\n",
    "            has_digit = True\n",
    "\n",
    "    return has_upper and has_lower and has_digit\n",
    "\n",
    "password = input(\"Enter a password: \")\n",
    "\n",
    "if is_valid_password(password):\n",
    "    print(\"Password is valid!\")\n",
    "else:\n",
    "    print(\"Invalid password! It must be at least 8 characters long and contain at least one uppercase letter, one lowercase letter, and one digit.\")\n"
   ]
  },
  {
   "cell_type": "code",
   "execution_count": null,
   "metadata": {},
   "outputs": [],
   "source": []
  }
 ],
 "metadata": {
  "kernelspec": {
   "display_name": "Python [conda env:base] *",
   "language": "python",
   "name": "conda-base-py"
  },
  "language_info": {
   "codemirror_mode": {
    "name": "ipython",
    "version": 3
   },
   "file_extension": ".py",
   "mimetype": "text/x-python",
   "name": "python",
   "nbconvert_exporter": "python",
   "pygments_lexer": "ipython3",
   "version": "3.12.7"
  }
 },
 "nbformat": 4,
 "nbformat_minor": 4
}
