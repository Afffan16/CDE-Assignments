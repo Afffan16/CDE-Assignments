{
 "cells": [
  {
   "cell_type": "markdown",
   "metadata": {},
   "source": [
    "# Part -4 Python Basics (Lists)"
   ]
  },
  {
   "cell_type": "markdown",
   "metadata": {},
   "source": [
    "1) Write a program that accepts a list from user and print the alternate element of list."
   ]
  },
  {
   "cell_type": "code",
   "execution_count": 35,
   "metadata": {},
   "outputs": [
    {
     "name": "stdin",
     "output_type": "stream",
     "text": [
      "Enter list elements separated by spaces :  25 50 75 100 125 150\n"
     ]
    },
    {
     "name": "stdout",
     "output_type": "stream",
     "text": [
      "Alternate elements: ['25', '75', '125']\n"
     ]
    }
   ],
   "source": [
    "list_l1 = input(\"Enter list elements separated by spaces : \").split()\n",
    "print(\"Alternate elements:\", list_l1[::2])"
   ]
  },
  {
   "cell_type": "markdown",
   "metadata": {},
   "source": [
    "2) Write a program that accepts a list from user. Your program should reverse the content of list and\n",
    "display it.\n",
    "\n",
    "    Do not use **reverse()** method. "
   ]
  },
  {
   "cell_type": "code",
   "execution_count": 37,
   "metadata": {},
   "outputs": [
    {
     "name": "stdin",
     "output_type": "stream",
     "text": [
      "Enter list elements separated by spaces:  12 23 34 45 56 67 78 89 90 01\n"
     ]
    },
    {
     "name": "stdout",
     "output_type": "stream",
     "text": [
      "Reversed list: ['01', '90', '89', '78', '67', '56', '45', '34', '23', '12']\n"
     ]
    }
   ],
   "source": [
    "list_l2 = input(\"Enter list elements separated by spaces: \").split()\n",
    "\n",
    "reversed_list_l2 = list_l2[::-1]\n",
    "\n",
    "print(\"Reversed list:\", reversed_list_l2)"
   ]
  },
  {
   "cell_type": "markdown",
   "metadata": {},
   "source": [
    "3)  Find and display the largest number of a list without using built-in function **max()**. Your program\n",
    "should ask the user to input values in list from keyboard. "
   ]
  },
  {
   "cell_type": "code",
   "execution_count": 41,
   "metadata": {},
   "outputs": [
    {
     "name": "stdin",
     "output_type": "stream",
     "text": [
      "Enter numbers separated by spaces :  87 12 45 78 121 35\n"
     ]
    },
    {
     "name": "stdout",
     "output_type": "stream",
     "text": [
      "The largest number is :  121\n"
     ]
    }
   ],
   "source": [
    "list_l3 = list(map(int, input(\"Enter numbers separated by spaces : \").split()))\n",
    "\n",
    "largest = list_l3[0]\n",
    "\n",
    "for num in list_l3:\n",
    "    if num > largest:\n",
    "        largest = num\n",
    "\n",
    "print(\"The largest number is : \", largest)"
   ]
  },
  {
   "cell_type": "markdown",
   "metadata": {},
   "source": [
    "4)  Write a program that rotates the element of a list so that the element at the first index moves to the\n",
    "second index, the element in the second index moves to the third index, etc., and the element in the last\n",
    "index moves to the first index. "
   ]
  },
  {
   "cell_type": "code",
   "execution_count": 43,
   "metadata": {},
   "outputs": [
    {
     "name": "stdin",
     "output_type": "stream",
     "text": [
      "Enter list elements separated by spaces:  1 3 5 7 9 11\n"
     ]
    },
    {
     "name": "stdout",
     "output_type": "stream",
     "text": [
      "Rotated list: [11, 1, 3, 5, 7, 9]\n"
     ]
    }
   ],
   "source": [
    "list_l4 = list(map(int, input(\"Enter list elements separated by spaces : \").split()))\n",
    "\n",
    "rotated_list = [list_l4[-1]] + list_l4[:-1]\n",
    "\n",
    "print(\"Rotated list:\", rotated_list)"
   ]
  },
  {
   "cell_type": "markdown",
   "metadata": {},
   "source": [
    "5) Write a program that input a string and ask user to delete a given word from a string. "
   ]
  },
  {
   "cell_type": "code",
   "execution_count": 51,
   "metadata": {},
   "outputs": [
    {
     "name": "stdin",
     "output_type": "stream",
     "text": [
      "Enter a string :  Affan is the most wealthiest person.\n",
      "Enter the word to delete :   most \n"
     ]
    },
    {
     "name": "stdout",
     "output_type": "stream",
     "text": [
      "Updated string :  Affan is the wealthiest person.\n"
     ]
    }
   ],
   "source": [
    "str1 = input(\"Enter a string : \")\n",
    "\n",
    "delete = input(\"Enter the word to delete :  \")\n",
    "\n",
    "updated_str1 = str1.replace(delete, \"\").strip()\n",
    "\n",
    "print(\"Updated string : \", updated_str1)"
   ]
  },
  {
   "cell_type": "markdown",
   "metadata": {},
   "source": [
    "6) Write a program that reads a string from the user containing a date in the form mm/dd/yyyy. It\n",
    "should print the date in the form March 12, 2021. "
   ]
  },
  {
   "cell_type": "code",
   "execution_count": 57,
   "metadata": {},
   "outputs": [
    {
     "name": "stdin",
     "output_type": "stream",
     "text": [
      "Enter a date (mm/dd/yyyy):  07/16/2005\n"
     ]
    },
    {
     "name": "stdout",
     "output_type": "stream",
     "text": [
      "Formatted date: July 16, 2005\n"
     ]
    }
   ],
   "source": [
    "months = [\"\", \"January\", \"February\", \"March\", \"April\", \"May\", \"June\", \n",
    "          \"July\", \"August\", \"September\", \"October\", \"November\", \"December\"]\n",
    "\n",
    "date = input(\"Enter a date (mm/dd/yyyy): \")\n",
    "\n",
    "month, day, year = date.split('/')\n",
    "\n",
    "month_name = months[int(month)]\n",
    "\n",
    "print(f\"Formatted date: {month_name} {int(day)}, {year}\")"
   ]
  },
  {
   "cell_type": "markdown",
   "metadata": {},
   "source": [
    "7) Write a program with a function that accepts a string from keyboard and create a new string after\n",
    "converting character of each word capitalized. For instance, if the sentence is \"stop and smell the roses.\"\n",
    "the output should be \"Stop And Smell The Roses\" "
   ]
  },
  {
   "cell_type": "code",
   "execution_count": 61,
   "metadata": {},
   "outputs": [
    {
     "name": "stdin",
     "output_type": "stream",
     "text": [
      "Enter a sentence :  my name is m. affan bin aamir\n"
     ]
    },
    {
     "name": "stdout",
     "output_type": "stream",
     "text": [
      "Formatted sentence :  My Name Is M. Affan Bin Aamir\n"
     ]
    }
   ],
   "source": [
    "def capitalize_words(sentence):\n",
    "    new_sentence = \" \".join(word.capitalize() for word in sentence.split())\n",
    "    return new_sentence\n",
    "\n",
    "text = input(\"Enter a sentence : \")\n",
    "\n",
    "print(\"Formatted sentence : \", capitalize_words(text))"
   ]
  },
  {
   "cell_type": "markdown",
   "metadata": {},
   "source": [
    "8) Find the sum of each row of matrix of size m x n. For example for the following matrix output will be\n",
    "like this :\n",
    "\n",
    "    **2**      **11**    **7**    **12**\n",
    "\n",
    "    **5**      **2**     **9**    **15**\n",
    "\n",
    "    **8**      **3**    **10**    **42**\n",
    "\n",
    "   Sum of row 1 = 32\n",
    "   \n",
    "   Sum of row 2 = 31\n",
    "\n",
    "   Sum of row 3 = 63 "
   ]
  },
  {
   "cell_type": "code",
   "execution_count": 67,
   "metadata": {},
   "outputs": [
    {
     "name": "stdin",
     "output_type": "stream",
     "text": [
      "Enter number of rows (m):  3\n",
      "Enter number of columns (n):  4\n"
     ]
    },
    {
     "name": "stdout",
     "output_type": "stream",
     "text": [
      "Enter the matrix row by row (space-separated values):\n"
     ]
    },
    {
     "name": "stdin",
     "output_type": "stream",
     "text": [
      " 2 11 7 12\n",
      " 5 2 9 15\n",
      " 8 3 10 42\n"
     ]
    },
    {
     "name": "stdout",
     "output_type": "stream",
     "text": [
      "\n",
      "Matrix:\n",
      "2   11   7   12\n",
      "5   2   9   15\n",
      "8   3   10   42\n",
      "\n",
      "Sum of row 1 = 32\n",
      "Sum of row 2 = 31\n",
      "Sum of row 3 = 63\n"
     ]
    }
   ],
   "source": [
    "def sum_of_rows(matrix):\n",
    "    for i in range(len(matrix)):  \n",
    "        row_sum = sum(matrix[i]) \n",
    "        print(f\"Sum of row {i + 1} = {row_sum}\")\n",
    "\n",
    "m = int(input(\"Enter number of rows (m): \"))\n",
    "n = int(input(\"Enter number of columns (n): \"))\n",
    "\n",
    "matrix = []\n",
    "print(\"Enter the matrix row by row (space-separated values):\")\n",
    "for i in range(m):\n",
    "    row = list(map(int, input().split())) \n",
    "    matrix.append(row)\n",
    "\n",
    "print(\"\\nMatrix:\")\n",
    "for row in matrix:\n",
    "    print(\"   \".join(map(str, row)))\n",
    "\n",
    "print()  \n",
    "sum_of_rows(matrix)"
   ]
  },
  {
   "cell_type": "markdown",
   "metadata": {},
   "source": [
    "9) Write a program to add two matrices of size n x m."
   ]
  },
  {
   "cell_type": "code",
   "execution_count": 69,
   "metadata": {},
   "outputs": [
    {
     "name": "stdin",
     "output_type": "stream",
     "text": [
      "Enter number of rows (n):  3\n",
      "Enter number of columns (m):  3\n"
     ]
    },
    {
     "name": "stdout",
     "output_type": "stream",
     "text": [
      "Enter values for Matrix 1 matrix row by row (space-separated):\n"
     ]
    },
    {
     "name": "stdin",
     "output_type": "stream",
     "text": [
      " 1 2 3\n",
      " 4 5 6\n",
      " 7 8 9\n"
     ]
    },
    {
     "name": "stdout",
     "output_type": "stream",
     "text": [
      "Enter values for Matrix 2 matrix row by row (space-separated):\n"
     ]
    },
    {
     "name": "stdin",
     "output_type": "stream",
     "text": [
      " 6 7 5\n",
      " 2 9 11\n",
      " 0 1 2\n"
     ]
    },
    {
     "name": "stdout",
     "output_type": "stream",
     "text": [
      "\n",
      "Matrix 1:\n",
      "1   2   3\n",
      "4   5   6\n",
      "7   8   9\n",
      "\n",
      "Matrix 2:\n",
      "6   7   5\n",
      "2   9   11\n",
      "0   1   2\n",
      "\n",
      "Sum of Matrices:\n",
      "7   9   8\n",
      "6   14   17\n",
      "7   9   11\n"
     ]
    }
   ],
   "source": [
    "def add_matrices(matrix1, matrix2):\n",
    "    result = [] \n",
    "    for i in range(len(matrix1)):  \n",
    "        row = []\n",
    "        for j in range(len(matrix1[0])):  \n",
    "            row.append(matrix1[i][j] + matrix2[i][j])  \n",
    "        result.append(row)\n",
    "    return result\n",
    "\n",
    "n = int(input(\"Enter number of rows (n): \"))\n",
    "m = int(input(\"Enter number of columns (m): \"))\n",
    "\n",
    "def input_matrix(name):\n",
    "    print(f\"Enter values for {name} matrix row by row (space-separated):\")\n",
    "    matrix = []\n",
    "    for _ in range(n):\n",
    "        row = list(map(int, input().split()))\n",
    "        matrix.append(row)\n",
    "    return matrix\n",
    "\n",
    "matrix1 = input_matrix(\"Matrix 1\")\n",
    "matrix2 = input_matrix(\"Matrix 2\")\n",
    "\n",
    "sum_matrix = add_matrices(matrix1, matrix2)\n",
    "\n",
    "def print_matrix(name, matrix):\n",
    "    print(f\"\\n{name}:\")\n",
    "    for row in matrix:\n",
    "        print(\"   \".join(map(str, row)))\n",
    "\n",
    "print_matrix(\"Matrix 1\", matrix1)\n",
    "print_matrix(\"Matrix 2\", matrix2)\n",
    "print_matrix(\"Sum of Matrices\", sum_matrix)"
   ]
  },
  {
   "cell_type": "markdown",
   "metadata": {},
   "source": [
    "10) Write a program to multiply two matrices."
   ]
  },
  {
   "cell_type": "code",
   "execution_count": 71,
   "metadata": {},
   "outputs": [
    {
     "name": "stdin",
     "output_type": "stream",
     "text": [
      "Enter number of rows for Matrix 1 (n):  3\n",
      "Enter number of columns for Matrix 1 / rows for Matrix 2 (m):  3\n",
      "Enter number of columns for Matrix 2 (p):  3\n"
     ]
    },
    {
     "name": "stdout",
     "output_type": "stream",
     "text": [
      "Enter values for Matrix 1 matrix row by row (space-separated):\n"
     ]
    },
    {
     "name": "stdin",
     "output_type": "stream",
     "text": [
      " 1 2 3\n",
      " 4 5 6\n",
      " 7 8 9\n"
     ]
    },
    {
     "name": "stdout",
     "output_type": "stream",
     "text": [
      "Enter values for Matrix 2 matrix row by row (space-separated):\n"
     ]
    },
    {
     "name": "stdin",
     "output_type": "stream",
     "text": [
      " 1 0 0\n",
      " 0 1 0\n",
      " 0 0 1\n"
     ]
    },
    {
     "name": "stdout",
     "output_type": "stream",
     "text": [
      "\n",
      "Matrix 1:\n",
      "1   2   3\n",
      "4   5   6\n",
      "7   8   9\n",
      "\n",
      "Matrix 2:\n",
      "1   0   0\n",
      "0   1   0\n",
      "0   0   1\n",
      "\n",
      "Product of Matrices:\n",
      "1   2   3\n",
      "4   5   6\n",
      "7   8   9\n"
     ]
    }
   ],
   "source": [
    "def multiply_matrices(matrix1, matrix2):\n",
    "    n = len(matrix1)      \n",
    "    m = len(matrix2)      \n",
    "    p = len(matrix2[0])  \n",
    "\n",
    "    result = [[0] * p for _ in range(n)]\n",
    "\n",
    "    for i in range(n): \n",
    "        for j in range(p):  \n",
    "            for k in range(m): \n",
    "                result[i][j] += matrix1[i][k] * matrix2[k][j]\n",
    "    \n",
    "    return result\n",
    "\n",
    "def input_matrix(rows, cols, name):\n",
    "    print(f\"Enter values for {name} matrix row by row (space-separated):\")\n",
    "    matrix = []\n",
    "    for _ in range(rows):\n",
    "        row = list(map(int, input().split()))\n",
    "        matrix.append(row)\n",
    "    return matrix\n",
    "\n",
    "n = int(input(\"Enter number of rows for Matrix 1 (n): \"))\n",
    "m = int(input(\"Enter number of columns for Matrix 1 / rows for Matrix 2 (m): \"))\n",
    "p = int(input(\"Enter number of columns for Matrix 2 (p): \"))\n",
    "\n",
    "matrix1 = input_matrix(n, m, \"Matrix 1\")\n",
    "matrix2 = input_matrix(m, p, \"Matrix 2\")\n",
    "\n",
    "product_matrix = multiply_matrices(matrix1, matrix2)\n",
    "\n",
    "def print_matrix(name, matrix):\n",
    "    print(f\"\\n{name}:\")\n",
    "    for row in matrix:\n",
    "        print(\"   \".join(map(str, row)))\n",
    "\n",
    "print_matrix(\"Matrix 1\", matrix1)\n",
    "print_matrix(\"Matrix 2\", matrix2)\n",
    "print_matrix(\"Product of Matrices\", product_matrix)\n"
   ]
  },
  {
   "cell_type": "code",
   "execution_count": null,
   "metadata": {},
   "outputs": [],
   "source": []
  }
 ],
 "metadata": {
  "kernelspec": {
   "display_name": "Python [conda env:base] *",
   "language": "python",
   "name": "conda-base-py"
  },
  "language_info": {
   "codemirror_mode": {
    "name": "ipython",
    "version": 3
   },
   "file_extension": ".py",
   "mimetype": "text/x-python",
   "name": "python",
   "nbconvert_exporter": "python",
   "pygments_lexer": "ipython3",
   "version": "3.12.7"
  }
 },
 "nbformat": 4,
 "nbformat_minor": 4
}
