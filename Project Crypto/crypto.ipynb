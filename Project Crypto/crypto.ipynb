{
 "cells": [
  {
   "cell_type": "code",
   "execution_count": null,
   "id": "5db4eb5a",
   "metadata": {},
   "outputs": [],
   "source": [
    "from selenium import webdriver\n",
    "from selenium.webdriver.chrome.options import Options\n",
    "from selenium.webdriver.common.by import By\n",
    "import csv\n",
    "import time"
   ]
  },
  {
   "cell_type": "code",
   "execution_count": null,
   "id": "c3d90f78",
   "metadata": {},
   "outputs": [],
   "source": [
    "options = Options()\n",
    "# options.add_argument(\"--headless\")\n",
    "path = r'D:\\@ff@n\\Cloud Data Engineering\\Selenium Master Project\\Selenium-MasterProject\\chromedriver-win64\\chromedriver.exe'\n",
    "driver = webdriver.Chrome(path)\n",
    "\n",
    "alldata = []\n",
    "\n",
    "with open(r'Cryptodata.csv', 'w', newline='', encoding='utf-8') as f:\n",
    "    writer = csv.writer(f)\n",
    "    writer.writerow(['Rank', 'Currency_Name', 'Price', 'Hour Change', 'Day Change', 'Week Change', 'Market_Capital', 'Volume', 'Circulating_Supply'])\n",
    "\n",
    "    page = 1\n",
    "    while True:\n",
    "        url = f\"https://coinmarketcap.com/?page={page}\"\n",
    "        driver.get(url)\n",
    "        print(f\"Scraping page: {page}\")\n",
    "        time.sleep(2)\n",
    "\n",
    "        scroll_height = driver.execute_script(\"return document.body.scrollHeight\")\n",
    "        current_position = 0\n",
    "        while current_position < scroll_height:\n",
    "            current_position += 300  \n",
    "            driver.execute_script(f\"window.scrollTo(0, {current_position});\")\n",
    "            time.sleep(0.5) \n",
    "            scroll_height = driver.execute_script(\"return document.body.scrollHeight\")\n",
    "\n",
    "        time.sleep(2)  \n",
    "\n",
    "        try:\n",
    "            table = driver.find_element(By.CLASS_NAME, 'cmc-table')\n",
    "            table_rows = table.find_elements(By.TAG_NAME, 'tr')\n",
    "\n",
    "            if len(table_rows) <= 1:\n",
    "                print(\"No more data. Reached the last page.\")\n",
    "                break\n",
    "\n",
    "            for table_row in table_rows[1:]:\n",
    "                table_data = table_row.find_elements(By.TAG_NAME, 'td')\n",
    "                if len(table_data) < 10:\n",
    "                    continue\n",
    "                rank = table_data[1].text\n",
    "                currency_name = table_data[2].text\n",
    "                price = table_data[3].text\n",
    "                hour_change = table_data[4].text\n",
    "                day_change = table_data[5].text \n",
    "                week_change = table_data[6].text\n",
    "                market_cap = table_data[7].text\n",
    "                volume = table_data[8].text\n",
    "                circulating_supply = table_data[9].text\n",
    "                data = [rank, currency_name, price, hour_change, day_change, week_change, market_cap, volume, circulating_supply]\n",
    "                writer.writerow(data)\n",
    "                alldata.append(data)\n",
    "\n",
    "        except Exception as e:\n",
    "            print(f\"Error on page {page}:\", e)\n",
    "            break\n",
    "\n",
    "        page += 1\n",
    "\n",
    "print(\"Total currencies scraped:\", len(alldata))\n",
    "driver.quit()"
   ]
  },
  {
   "cell_type": "code",
   "execution_count": null,
   "id": "95fcb11f",
   "metadata": {},
   "outputs": [],
   "source": []
  }
 ],
 "metadata": {
  "kernelspec": {
   "display_name": "base",
   "language": "python",
   "name": "python3"
  },
  "language_info": {
   "name": "python",
   "version": "3.12.7"
  }
 },
 "nbformat": 4,
 "nbformat_minor": 5
}
